{
 "cells": [
  {
   "cell_type": "markdown",
   "metadata": {
    "id": "JngFMhySY4n1"
   },
   "source": [
    "https://github.com/microsoft/recommenders/blob/main/examples/01_prepare_data/data_split.ipynb"
   ]
  },
  {
   "cell_type": "code",
   "execution_count": 70,
   "metadata": {
    "executionInfo": {
     "elapsed": 769,
     "status": "ok",
     "timestamp": 1652636104003,
     "user": {
      "displayName": "권유진",
      "userId": "17694849594474805342"
     },
     "user_tz": -540
    },
    "id": "UrfB16nFcmkQ"
   },
   "outputs": [],
   "source": [
    "import pandas as pd\n",
    "import numpy as np\n",
    "from tqdm import tqdm"
   ]
  },
  {
   "cell_type": "code",
   "execution_count": 71,
   "metadata": {
    "executionInfo": {
     "elapsed": 2712,
     "status": "ok",
     "timestamp": 1652636106711,
     "user": {
      "displayName": "권유진",
      "userId": "17694849594474805342"
     },
     "user_tz": -540
    },
    "id": "hRNVe8GocjUw"
   },
   "outputs": [],
   "source": [
    "transaction = pd.read_csv('book_transactions.csv', encoding='cp949')"
   ]
  },
  {
   "cell_type": "code",
   "execution_count": 72,
   "metadata": {
    "colab": {
     "base_uri": "https://localhost:8080/"
    },
    "executionInfo": {
     "elapsed": 456,
     "status": "ok",
     "timestamp": 1652636131486,
     "user": {
      "displayName": "권유진",
      "userId": "17694849594474805342"
     },
     "user_tz": -540
    },
    "id": "ZqS4UmsAd787",
    "outputId": "19d7685a-cb4a-4e97-872b-baa868a0c313",
    "scrolled": true
   },
   "outputs": [],
   "source": [
    "data = transaction[['회원번호', '책제목']]\n",
    "ids = data.groupby('회원번호').책제목.count().reset_index().query(\"책제목 > 5\").회원번호.unique()\n",
    "data = data.query('회원번호 in @ids')\n",
    "\n",
    "id2user = dict(enumerate(data.회원번호.unique()))\n",
    "user2id = {j:i for i, j in id2user.items()}\n",
    "id2book = dict(enumerate(data.책제목.unique()))\n",
    "book2id = {j:i for i, j in id2book.items()}\n",
    "#id2cat = dict(enumerate(data.카테고리.unique()))\n",
    "#cat2id = {j:i for i, j in id2cat.items()}\n",
    "\n",
    "data.회원번호 = data.회원번호.map(lambda x: user2id[x])\n",
    "data.책제목 = data.책제목.map(lambda x: book2id[x])\n",
    "data = data.drop_duplicates()"
   ]
  },
  {
   "cell_type": "code",
   "execution_count": 73,
   "metadata": {},
   "outputs": [],
   "source": [
    "#data_cat = transaction.groupby('책제목')['카테고리'].unique().map(lambda x: x[0]).reset_index()"
   ]
  },
  {
   "cell_type": "code",
   "execution_count": 74,
   "metadata": {},
   "outputs": [],
   "source": [
    "#data_cat['책제목'] = data_cat.책제목.map(lambda x: book2id[x])\n",
    "#data_cat['카테고리'] = data_cat.카테고리.map(lambda x: cat2id[x])"
   ]
  },
  {
   "cell_type": "code",
   "execution_count": 75,
   "metadata": {},
   "outputs": [],
   "source": [
    "#data_cat = dict(data_cat.values)"
   ]
  },
  {
   "cell_type": "code",
   "execution_count": 76,
   "metadata": {
    "executionInfo": {
     "elapsed": 1302,
     "status": "ok",
     "timestamp": 1652636134150,
     "user": {
      "displayName": "권유진",
      "userId": "17694849594474805342"
     },
     "user_tz": -540
    },
    "id": "u6m61kAoSU7I"
   },
   "outputs": [],
   "source": [
    "data.to_csv('main_data_yes24.csv', index=False)"
   ]
  },
  {
   "cell_type": "code",
   "execution_count": 77,
   "metadata": {
    "id": "K4RGtPKbz7P9"
   },
   "outputs": [],
   "source": [
    "#data_cat = transaction[['회원번호', '카테고리']]\n",
    "#data_cat.회원번호 = data_cat.회원번호.map(lambda x: user2id[x])\n",
    "#data_cat.카테고리 = data_cat.카테고리.map(lambda x: cat2id[x])\n",
    "#data_cat = data_cat.drop_duplicates()"
   ]
  },
  {
   "cell_type": "code",
   "execution_count": 78,
   "metadata": {},
   "outputs": [],
   "source": [
    "data_tr = pd.read_csv('main_data_yes24.csv')"
   ]
  },
  {
   "cell_type": "code",
   "execution_count": 79,
   "metadata": {},
   "outputs": [
    {
     "data": {
      "text/plain": [
       "(203652, 2)"
      ]
     },
     "execution_count": 79,
     "metadata": {},
     "output_type": "execute_result"
    }
   ],
   "source": [
    "data_tr.shape"
   ]
  },
  {
   "cell_type": "code",
   "execution_count": 80,
   "metadata": {},
   "outputs": [],
   "source": [
    "train_data = data_tr.copy()"
   ]
  },
  {
   "cell_type": "code",
   "execution_count": 81,
   "metadata": {},
   "outputs": [],
   "source": [
    "items = data.groupby('회원번호')['책제목'].unique()\n",
    "test_data = items.map(lambda x: x[-1]).reset_index().values\n",
    "train_data = train_data.append(pd.DataFrame(test_data, columns=['회원번호', '책제목'])).drop_duplicates(keep=False)"
   ]
  },
  {
   "cell_type": "code",
   "execution_count": 82,
   "metadata": {},
   "outputs": [],
   "source": [
    "train_data.to_csv('main_data_train_yes24.csv', index=False)"
   ]
  },
  {
   "cell_type": "code",
   "execution_count": 83,
   "metadata": {},
   "outputs": [],
   "source": [
    "item_num = data_tr.책제목.nunique()\n",
    "item_list = set(range(item_num))\n",
    "def noninteracted(x):\n",
    "    lst = list(item_list - set(x))\n",
    "    sampled = np.random.choice(lst, 99)\n",
    "    result = x[-1].reshape(1).tolist() + sampled.tolist()\n",
    "    return result\n",
    "res = items.map(noninteracted)"
   ]
  },
  {
   "cell_type": "code",
   "execution_count": 84,
   "metadata": {},
   "outputs": [],
   "source": [
    "np.save('main_data_test_yes24.npy', res.reset_index().values, allow_pickle=True)"
   ]
  },
  {
   "cell_type": "code",
   "execution_count": 85,
   "metadata": {},
   "outputs": [],
   "source": [
    "test_data_raw = np.load('main_data_test_yes24.npy', allow_pickle=True)"
   ]
  },
  {
   "cell_type": "code",
   "execution_count": 86,
   "metadata": {},
   "outputs": [],
   "source": [
    "test_data = []\n",
    "for data in test_data_raw:\n",
    "    u = data[0]\n",
    "    i = data[1]\n",
    "    for item in i:\n",
    "        test_data.append([u, int(item)])"
   ]
  },
  {
   "cell_type": "code",
   "execution_count": 87,
   "metadata": {},
   "outputs": [
    {
     "name": "stdout",
     "output_type": "stream",
     "text": [
      "12124 60210\n"
     ]
    }
   ],
   "source": [
    "print(data_tr.회원번호.nunique(), data_tr.책제목.nunique())"
   ]
  },
  {
   "cell_type": "markdown",
   "metadata": {},
   "source": [
    "ml-1m"
   ]
  },
  {
   "cell_type": "code",
   "execution_count": 56,
   "metadata": {},
   "outputs": [
    {
     "data": {
      "text/html": [
       "<div>\n",
       "<style scoped>\n",
       "    .dataframe tbody tr th:only-of-type {\n",
       "        vertical-align: middle;\n",
       "    }\n",
       "\n",
       "    .dataframe tbody tr th {\n",
       "        vertical-align: top;\n",
       "    }\n",
       "\n",
       "    .dataframe thead th {\n",
       "        text-align: right;\n",
       "    }\n",
       "</style>\n",
       "<table border=\"1\" class=\"dataframe\">\n",
       "  <thead>\n",
       "    <tr style=\"text-align: right;\">\n",
       "      <th></th>\n",
       "      <th>User_ID</th>\n",
       "      <th>MovieID</th>\n",
       "      <th>Rating</th>\n",
       "      <th>Timestamp</th>\n",
       "    </tr>\n",
       "  </thead>\n",
       "  <tbody>\n",
       "    <tr>\n",
       "      <th>0</th>\n",
       "      <td>1</td>\n",
       "      <td>1193</td>\n",
       "      <td>5</td>\n",
       "      <td>978300760</td>\n",
       "    </tr>\n",
       "    <tr>\n",
       "      <th>1</th>\n",
       "      <td>1</td>\n",
       "      <td>661</td>\n",
       "      <td>3</td>\n",
       "      <td>978302109</td>\n",
       "    </tr>\n",
       "    <tr>\n",
       "      <th>2</th>\n",
       "      <td>1</td>\n",
       "      <td>914</td>\n",
       "      <td>3</td>\n",
       "      <td>978301968</td>\n",
       "    </tr>\n",
       "    <tr>\n",
       "      <th>3</th>\n",
       "      <td>1</td>\n",
       "      <td>3408</td>\n",
       "      <td>4</td>\n",
       "      <td>978300275</td>\n",
       "    </tr>\n",
       "    <tr>\n",
       "      <th>4</th>\n",
       "      <td>1</td>\n",
       "      <td>2355</td>\n",
       "      <td>5</td>\n",
       "      <td>978824291</td>\n",
       "    </tr>\n",
       "  </tbody>\n",
       "</table>\n",
       "</div>"
      ],
      "text/plain": [
       "   User_ID  MovieID  Rating  Timestamp\n",
       "0        1     1193       5  978300760\n",
       "1        1      661       3  978302109\n",
       "2        1      914       3  978301968\n",
       "3        1     3408       4  978300275\n",
       "4        1     2355       5  978824291"
      ]
     },
     "execution_count": 56,
     "metadata": {},
     "output_type": "execute_result"
    }
   ],
   "source": [
    "column_names = ['MovieID', 'Title', 'Genres']\n",
    "movies = pd.read_csv(\"./ml-1m/movies.dat\", sep = \"::\", names = column_names, encoding='latin-1', engine='python')\n",
    "\n",
    "column_names = ['User_ID', 'Gender', 'Age', 'Occupation', 'Zip-code']\n",
    "users = pd.read_csv(\"./ml-1m/users.dat\", sep = \"::\", names = column_names, engine='python')\n",
    "\n",
    "column_names = ['User_ID', 'MovieID', 'Rating', 'Timestamp']\n",
    "ratings = pd.read_csv(\"./ml-1m/ratings.dat\", sep = \"::\", names = column_names, engine='python')\n",
    "ratings.head()"
   ]
  },
  {
   "cell_type": "code",
   "execution_count": 57,
   "metadata": {},
   "outputs": [],
   "source": [
    "ratings = ratings.sort_values(['User_ID', 'Timestamp'])[['User_ID', 'MovieID']].reset_index(drop=True)"
   ]
  },
  {
   "cell_type": "code",
   "execution_count": 58,
   "metadata": {},
   "outputs": [
    {
     "data": {
      "text/plain": [
       "count    6040.000000\n",
       "mean      165.597517\n",
       "std       192.747029\n",
       "min        20.000000\n",
       "25%        44.000000\n",
       "50%        96.000000\n",
       "75%       208.000000\n",
       "max      2314.000000\n",
       "Name: User_ID, dtype: float64"
      ]
     },
     "execution_count": 58,
     "metadata": {},
     "output_type": "execute_result"
    }
   ],
   "source": [
    "ratings['User_ID'].value_counts().describe()"
   ]
  },
  {
   "cell_type": "code",
   "execution_count": 59,
   "metadata": {},
   "outputs": [],
   "source": [
    "ratings_copy = ratings.copy()"
   ]
  },
  {
   "cell_type": "code",
   "execution_count": 60,
   "metadata": {},
   "outputs": [],
   "source": [
    "items = ratings.groupby('User_ID')['MovieID'].unique()\n",
    "test_data = items.map(lambda x: x[-1]).reset_index().values\n",
    "train_data = ratings_copy.append(pd.DataFrame(test_data, columns=['User_ID', 'MovieID'])).drop_duplicates(keep=False)"
   ]
  },
  {
   "cell_type": "code",
   "execution_count": 62,
   "metadata": {},
   "outputs": [
    {
     "data": {
      "text/html": [
       "<div>\n",
       "<style scoped>\n",
       "    .dataframe tbody tr th:only-of-type {\n",
       "        vertical-align: middle;\n",
       "    }\n",
       "\n",
       "    .dataframe tbody tr th {\n",
       "        vertical-align: top;\n",
       "    }\n",
       "\n",
       "    .dataframe thead th {\n",
       "        text-align: right;\n",
       "    }\n",
       "</style>\n",
       "<table border=\"1\" class=\"dataframe\">\n",
       "  <thead>\n",
       "    <tr style=\"text-align: right;\">\n",
       "      <th></th>\n",
       "      <th>User_ID</th>\n",
       "      <th>MovieID</th>\n",
       "    </tr>\n",
       "  </thead>\n",
       "  <tbody>\n",
       "    <tr>\n",
       "      <th>0</th>\n",
       "      <td>1</td>\n",
       "      <td>3186</td>\n",
       "    </tr>\n",
       "    <tr>\n",
       "      <th>1</th>\n",
       "      <td>1</td>\n",
       "      <td>1270</td>\n",
       "    </tr>\n",
       "    <tr>\n",
       "      <th>2</th>\n",
       "      <td>1</td>\n",
       "      <td>1721</td>\n",
       "    </tr>\n",
       "    <tr>\n",
       "      <th>3</th>\n",
       "      <td>1</td>\n",
       "      <td>1022</td>\n",
       "    </tr>\n",
       "    <tr>\n",
       "      <th>4</th>\n",
       "      <td>1</td>\n",
       "      <td>2340</td>\n",
       "    </tr>\n",
       "    <tr>\n",
       "      <th>...</th>\n",
       "      <td>...</td>\n",
       "      <td>...</td>\n",
       "    </tr>\n",
       "    <tr>\n",
       "      <th>1000203</th>\n",
       "      <td>6040</td>\n",
       "      <td>232</td>\n",
       "    </tr>\n",
       "    <tr>\n",
       "      <th>1000204</th>\n",
       "      <td>6040</td>\n",
       "      <td>2917</td>\n",
       "    </tr>\n",
       "    <tr>\n",
       "      <th>1000205</th>\n",
       "      <td>6040</td>\n",
       "      <td>1921</td>\n",
       "    </tr>\n",
       "    <tr>\n",
       "      <th>1000206</th>\n",
       "      <td>6040</td>\n",
       "      <td>1784</td>\n",
       "    </tr>\n",
       "    <tr>\n",
       "      <th>1000207</th>\n",
       "      <td>6040</td>\n",
       "      <td>161</td>\n",
       "    </tr>\n",
       "  </tbody>\n",
       "</table>\n",
       "<p>994169 rows × 2 columns</p>\n",
       "</div>"
      ],
      "text/plain": [
       "         User_ID  MovieID\n",
       "0              1     3186\n",
       "1              1     1270\n",
       "2              1     1721\n",
       "3              1     1022\n",
       "4              1     2340\n",
       "...          ...      ...\n",
       "1000203     6040      232\n",
       "1000204     6040     2917\n",
       "1000205     6040     1921\n",
       "1000206     6040     1784\n",
       "1000207     6040      161\n",
       "\n",
       "[994169 rows x 2 columns]"
      ]
     },
     "execution_count": 62,
     "metadata": {},
     "output_type": "execute_result"
    }
   ],
   "source": [
    "train_data"
   ]
  },
  {
   "cell_type": "code",
   "execution_count": 61,
   "metadata": {},
   "outputs": [
    {
     "data": {
      "text/plain": [
       "array([[   1,   48],\n",
       "       [   2, 1917],\n",
       "       [   3, 2081],\n",
       "       ...,\n",
       "       [6038, 1183],\n",
       "       [6039, 1254],\n",
       "       [6040, 1221]], dtype=int64)"
      ]
     },
     "execution_count": 61,
     "metadata": {},
     "output_type": "execute_result"
    }
   ],
   "source": [
    "test_data"
   ]
  },
  {
   "cell_type": "code",
   "execution_count": 63,
   "metadata": {},
   "outputs": [],
   "source": [
    "train_data.to_csv('main_data_train_ml.csv', index=False)"
   ]
  },
  {
   "cell_type": "code",
   "execution_count": 64,
   "metadata": {},
   "outputs": [],
   "source": [
    "item_num = ratings_copy.MovieID.nunique()\n",
    "item_list = set(range(item_num))\n",
    "def noninteracted(x):\n",
    "    lst = list(item_list - set(x))\n",
    "    sampled = np.random.choice(lst, 99)\n",
    "    result = x[-1].reshape(1).tolist() + sampled.tolist()\n",
    "    return result\n",
    "res = items.map(noninteracted)"
   ]
  },
  {
   "cell_type": "code",
   "execution_count": 65,
   "metadata": {},
   "outputs": [],
   "source": [
    "np.save('main_data_test_ml.npy', res.reset_index().values, allow_pickle=True)"
   ]
  },
  {
   "cell_type": "code",
   "execution_count": 69,
   "metadata": {},
   "outputs": [
    {
     "data": {
      "text/plain": [
       "(6040, 3952)"
      ]
     },
     "execution_count": 69,
     "metadata": {},
     "output_type": "execute_result"
    }
   ],
   "source": [
    "ratings.User_ID.max(), ratings.MovieID.max()"
   ]
  }
 ],
 "metadata": {
  "colab": {
   "authorship_tag": "ABX9TyOj7hfTZ1vV3I/Kt4i8D/dp",
   "collapsed_sections": [],
   "machine_shape": "hm",
   "mount_file_id": "19jgbstTjrn2n8b0V9_lm6F6jgqnmzj5s",
   "name": "data.ipynb",
   "provenance": []
  },
  "kernelspec": {
   "display_name": "Python 3 (ipykernel)",
   "language": "python",
   "name": "python3"
  },
  "language_info": {
   "codemirror_mode": {
    "name": "ipython",
    "version": 3
   },
   "file_extension": ".py",
   "mimetype": "text/x-python",
   "name": "python",
   "nbconvert_exporter": "python",
   "pygments_lexer": "ipython3",
   "version": "3.9.7"
  }
 },
 "nbformat": 4,
 "nbformat_minor": 1
}
