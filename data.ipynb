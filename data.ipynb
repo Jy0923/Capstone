{
 "cells": [
  {
   "cell_type": "markdown",
   "metadata": {
    "id": "JngFMhySY4n1"
   },
   "source": [
    "https://github.com/microsoft/recommenders/blob/main/examples/01_prepare_data/data_split.ipynb"
   ]
  },
  {
   "cell_type": "code",
   "execution_count": 1,
   "metadata": {
    "executionInfo": {
     "elapsed": 769,
     "status": "ok",
     "timestamp": 1652636104003,
     "user": {
      "displayName": "권유진",
      "userId": "17694849594474805342"
     },
     "user_tz": -540
    },
    "id": "UrfB16nFcmkQ"
   },
   "outputs": [],
   "source": [
    "import pandas as pd\n",
    "import numpy as np\n",
    "from tqdm import tqdm"
   ]
  },
  {
   "cell_type": "code",
   "execution_count": 2,
   "metadata": {
    "executionInfo": {
     "elapsed": 2712,
     "status": "ok",
     "timestamp": 1652636106711,
     "user": {
      "displayName": "권유진",
      "userId": "17694849594474805342"
     },
     "user_tz": -540
    },
    "id": "hRNVe8GocjUw"
   },
   "outputs": [],
   "source": [
    "transaction = pd.read_csv('book_transactions.csv', encoding='cp949')"
   ]
  },
  {
   "cell_type": "code",
   "execution_count": 3,
   "metadata": {
    "colab": {
     "base_uri": "https://localhost:8080/"
    },
    "executionInfo": {
     "elapsed": 456,
     "status": "ok",
     "timestamp": 1652636131486,
     "user": {
      "displayName": "권유진",
      "userId": "17694849594474805342"
     },
     "user_tz": -540
    },
    "id": "ZqS4UmsAd787",
    "outputId": "19d7685a-cb4a-4e97-872b-baa868a0c313",
    "scrolled": true
   },
   "outputs": [],
   "source": [
    "data = transaction[['회원번호', '책제목']]\n",
    "ids = data.groupby('회원번호').책제목.count().reset_index().query(\"책제목 > 20\").회원번호.unique()\n",
    "data = data.query('회원번호 in @ids')\n",
    "\n",
    "id2user = dict(enumerate(data.회원번호.unique()))\n",
    "user2id = {j:i for i, j in id2user.items()}\n",
    "id2book = dict(enumerate(data.책제목.unique()))\n",
    "book2id = {j:i for i, j in id2book.items()}\n",
    "#id2cat = dict(enumerate(data.카테고리.unique()))\n",
    "#cat2id = {j:i for i, j in id2cat.items()}\n",
    "\n",
    "data.회원번호 = data.회원번호.map(lambda x: user2id[x])\n",
    "data.책제목 = data.책제목.map(lambda x: book2id[x])\n",
    "data = data.drop_duplicates()"
   ]
  },
  {
   "cell_type": "code",
   "execution_count": 4,
   "metadata": {},
   "outputs": [],
   "source": [
    "#data_cat = transaction.groupby('책제목')['카테고리'].unique().map(lambda x: x[0]).reset_index()"
   ]
  },
  {
   "cell_type": "code",
   "execution_count": 5,
   "metadata": {},
   "outputs": [],
   "source": [
    "#data_cat['책제목'] = data_cat.책제목.map(lambda x: book2id[x])\n",
    "#data_cat['카테고리'] = data_cat.카테고리.map(lambda x: cat2id[x])"
   ]
  },
  {
   "cell_type": "code",
   "execution_count": 6,
   "metadata": {},
   "outputs": [],
   "source": [
    "#data_cat = dict(data_cat.values)"
   ]
  },
  {
   "cell_type": "code",
   "execution_count": 7,
   "metadata": {
    "executionInfo": {
     "elapsed": 1302,
     "status": "ok",
     "timestamp": 1652636134150,
     "user": {
      "displayName": "권유진",
      "userId": "17694849594474805342"
     },
     "user_tz": -540
    },
    "id": "u6m61kAoSU7I"
   },
   "outputs": [],
   "source": [
    "data.to_csv('main_data.csv', index=False)"
   ]
  },
  {
   "cell_type": "code",
   "execution_count": 8,
   "metadata": {
    "id": "K4RGtPKbz7P9"
   },
   "outputs": [],
   "source": [
    "#data_cat = transaction[['회원번호', '카테고리']]\n",
    "#data_cat.회원번호 = data_cat.회원번호.map(lambda x: user2id[x])\n",
    "#data_cat.카테고리 = data_cat.카테고리.map(lambda x: cat2id[x])\n",
    "#data_cat = data_cat.drop_duplicates()"
   ]
  },
  {
   "cell_type": "code",
   "execution_count": 9,
   "metadata": {},
   "outputs": [],
   "source": [
    "data_tr = pd.read_csv('main_data.csv')"
   ]
  },
  {
   "cell_type": "code",
   "execution_count": 10,
   "metadata": {},
   "outputs": [
    {
     "data": {
      "text/plain": [
       "(109553, 2)"
      ]
     },
     "execution_count": 10,
     "metadata": {},
     "output_type": "execute_result"
    }
   ],
   "source": [
    "data_tr.shape"
   ]
  },
  {
   "cell_type": "code",
   "execution_count": 11,
   "metadata": {},
   "outputs": [],
   "source": [
    "train_data = data_tr.copy()"
   ]
  },
  {
   "cell_type": "code",
   "execution_count": 12,
   "metadata": {},
   "outputs": [],
   "source": [
    "items = data.groupby('회원번호')['책제목'].unique()\n",
    "test_data = items.map(lambda x: x[-1]).reset_index().values\n",
    "train_data = train_data.append(pd.DataFrame(test_data, columns=['회원번호', '책제목'])).drop_duplicates(keep=False)"
   ]
  },
  {
   "cell_type": "code",
   "execution_count": 13,
   "metadata": {},
   "outputs": [],
   "source": [
    "train_data.to_csv('main_data_train.csv', index=False)"
   ]
  },
  {
   "cell_type": "code",
   "execution_count": 14,
   "metadata": {},
   "outputs": [],
   "source": [
    "item_num = data_tr.책제목.nunique()\n",
    "item_list = set(range(item_num))\n",
    "def noninteracted(x):\n",
    "    lst = list(item_list - set(x))\n",
    "    sampled = np.random.choice(lst, 99)\n",
    "    result = x[-1].reshape(1).tolist() + sampled.tolist()\n",
    "    return result\n",
    "res = items.map(noninteracted)"
   ]
  },
  {
   "cell_type": "code",
   "execution_count": 15,
   "metadata": {},
   "outputs": [],
   "source": [
    "np.save('main_data_test.npy', res.reset_index().values, allow_pickle=True)"
   ]
  },
  {
   "cell_type": "code",
   "execution_count": 16,
   "metadata": {},
   "outputs": [],
   "source": [
    "test_data_raw = np.load('main_data_test.npy', allow_pickle=True)"
   ]
  },
  {
   "cell_type": "code",
   "execution_count": 17,
   "metadata": {},
   "outputs": [],
   "source": [
    "test_data = []\n",
    "for data in test_data_raw:\n",
    "    u = data[0]\n",
    "    i = data[1]\n",
    "    for item in i:\n",
    "        test_data.append([u, int(item)])"
   ]
  },
  {
   "cell_type": "code",
   "execution_count": 21,
   "metadata": {},
   "outputs": [
    {
     "name": "stdout",
     "output_type": "stream",
     "text": [
      "3068 42929\n"
     ]
    }
   ],
   "source": [
    "print(data_tr.회원번호.nunique(), data_tr.책제목.nunique())"
   ]
  },
  {
   "cell_type": "code",
   "execution_count": null,
   "metadata": {},
   "outputs": [],
   "source": []
  }
 ],
 "metadata": {
  "colab": {
   "authorship_tag": "ABX9TyOj7hfTZ1vV3I/Kt4i8D/dp",
   "collapsed_sections": [],
   "machine_shape": "hm",
   "mount_file_id": "19jgbstTjrn2n8b0V9_lm6F6jgqnmzj5s",
   "name": "data.ipynb",
   "provenance": []
  },
  "kernelspec": {
   "display_name": "Python 3 (ipykernel)",
   "language": "python",
   "name": "python3"
  },
  "language_info": {
   "codemirror_mode": {
    "name": "ipython",
    "version": 3
   },
   "file_extension": ".py",
   "mimetype": "text/x-python",
   "name": "python",
   "nbconvert_exporter": "python",
   "pygments_lexer": "ipython3",
   "version": "3.9.7"
  }
 },
 "nbformat": 4,
 "nbformat_minor": 1
}
